{
 "cells": [
  {
   "cell_type": "code",
   "execution_count": 71,
   "id": "1e8e06d4",
   "metadata": {},
   "outputs": [],
   "source": [
    "import pandas as pd\n",
    "import numpy as np\n",
    "import matplotlib.pyplot as plt\n",
    "import seaborn as sns\n",
    "import re"
   ]
  },
  {
   "cell_type": "code",
   "execution_count": null,
   "id": "9d8cb3a1",
   "metadata": {},
   "outputs": [],
   "source": []
  },
  {
   "cell_type": "code",
   "execution_count": 83,
   "id": "f9bf2686",
   "metadata": {},
   "outputs": [
    {
     "data": {
      "text/html": [
       "<div>\n",
       "<style scoped>\n",
       "    .dataframe tbody tr th:only-of-type {\n",
       "        vertical-align: middle;\n",
       "    }\n",
       "\n",
       "    .dataframe tbody tr th {\n",
       "        vertical-align: top;\n",
       "    }\n",
       "\n",
       "    .dataframe thead th {\n",
       "        text-align: right;\n",
       "    }\n",
       "</style>\n",
       "<table border=\"1\" class=\"dataframe\">\n",
       "  <thead>\n",
       "    <tr style=\"text-align: right;\">\n",
       "      <th></th>\n",
       "      <th>TractId</th>\n",
       "      <th>County</th>\n",
       "      <th>TotalPop</th>\n",
       "      <th>Poverty</th>\n",
       "      <th>IncomePerCap</th>\n",
       "    </tr>\n",
       "  </thead>\n",
       "  <tbody>\n",
       "    <tr>\n",
       "      <th>2751</th>\n",
       "      <td>48301950100</td>\n",
       "      <td>Loving County, Texas</td>\n",
       "      <td>74</td>\n",
       "      <td>17.1</td>\n",
       "      <td>35530.0</td>\n",
       "    </tr>\n",
       "    <tr>\n",
       "      <th>548</th>\n",
       "      <td>15005031900</td>\n",
       "      <td>Kalawao County, Hawaii</td>\n",
       "      <td>86</td>\n",
       "      <td>12.7</td>\n",
       "      <td>46024.0</td>\n",
       "    </tr>\n",
       "    <tr>\n",
       "      <th>2735</th>\n",
       "      <td>48269950100</td>\n",
       "      <td>King County, Texas</td>\n",
       "      <td>289</td>\n",
       "      <td>3.5</td>\n",
       "      <td>29918.0</td>\n",
       "    </tr>\n",
       "    <tr>\n",
       "      <th>1656</th>\n",
       "      <td>31005958300</td>\n",
       "      <td>Arthur County, Nebraska</td>\n",
       "      <td>421</td>\n",
       "      <td>10.9</td>\n",
       "      <td>21799.0</td>\n",
       "    </tr>\n",
       "    <tr>\n",
       "      <th>1713</th>\n",
       "      <td>31117957900</td>\n",
       "      <td>McPherson County, Nebraska</td>\n",
       "      <td>432</td>\n",
       "      <td>16.0</td>\n",
       "      <td>27241.0</td>\n",
       "    </tr>\n",
       "  </tbody>\n",
       "</table>\n",
       "</div>"
      ],
      "text/plain": [
       "          TractId                      County  TotalPop  Poverty  IncomePerCap\n",
       "2751  48301950100        Loving County, Texas        74     17.1       35530.0\n",
       "548   15005031900      Kalawao County, Hawaii        86     12.7       46024.0\n",
       "2735  48269950100          King County, Texas       289      3.5       29918.0\n",
       "1656  31005958300     Arthur County, Nebraska       421     10.9       21799.0\n",
       "1713  31117957900  McPherson County, Nebraska       432     16.0       27241.0"
      ]
     },
     "execution_count": 83,
     "metadata": {},
     "output_type": "execute_result"
    }
   ],
   "source": [
    "df_covid = pd.read_csv(\"COVID_county_data.csv\")\n",
    "df_census = pd.read_csv(\"acs2017_census_tract_data.csv\", usecols = ['TractId', 'State', 'County','TotalPop','Poverty','IncomePerCap'])\n",
    "\n",
    "# x = population * poverty rate by tract <- number of impoverished people\n",
    "# y = sum of all population per county\n",
    "# z = x / y <- impoverished over total pop <- poverty percentage\n",
    "\n",
    "df_census['x'] = df_census['TotalPop'] * df_census['Poverty']\n",
    "\n",
    "df_census = df_census.groupby(['State','County']).agg(\n",
    "    {\n",
    "        'TractId': 'first',\n",
    "        'TotalPop':sum,\n",
    "        'x':sum,\n",
    "        'IncomePerCap': 'mean'\n",
    "    }\n",
    ",dropna = True).reset_index()\n",
    "\n",
    "\n",
    "df_census['Poverty'] = df_census['x'] / df_census[\"TotalPop\"]\n",
    "del df_census['x']\n",
    "\n",
    "df_census['County'] = df_census['County']+ ', '+ df_census['State']\n",
    "df_census = df_census.drop(['State'], axis = 1)\n",
    "df_census = df_census.reindex(columns = ['TractId', 'County', 'TotalPop', 'Poverty', 'IncomePerCap'])\n",
    "# df_census.head()\n",
    "\n",
    "df_census = df_census.sort_values(by = ['TotalPop'], ascending=True)\n",
    "\n",
    "df_census.head()"
   ]
  },
  {
   "cell_type": "code",
   "execution_count": null,
   "id": "cf4362a6",
   "metadata": {},
   "outputs": [],
   "source": []
  },
  {
   "cell_type": "code",
   "execution_count": null,
   "id": "e1e035de",
   "metadata": {},
   "outputs": [],
   "source": []
  },
  {
   "cell_type": "code",
   "execution_count": null,
   "id": "eae02de1",
   "metadata": {},
   "outputs": [],
   "source": []
  },
  {
   "cell_type": "code",
   "execution_count": null,
   "id": "1649ed2e",
   "metadata": {},
   "outputs": [],
   "source": []
  },
  {
   "cell_type": "code",
   "execution_count": null,
   "id": "28558dde",
   "metadata": {},
   "outputs": [],
   "source": []
  }
 ],
 "metadata": {
  "kernelspec": {
   "display_name": "Python 3 (ipykernel)",
   "language": "python",
   "name": "python3"
  },
  "language_info": {
   "codemirror_mode": {
    "name": "ipython",
    "version": 3
   },
   "file_extension": ".py",
   "mimetype": "text/x-python",
   "name": "python",
   "nbconvert_exporter": "python",
   "pygments_lexer": "ipython3",
   "version": "3.9.7"
  }
 },
 "nbformat": 4,
 "nbformat_minor": 5
}
